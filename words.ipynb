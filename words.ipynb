{
 "cells": [
  {
   "cell_type": "code",
   "execution_count": 34,
   "metadata": {},
   "outputs": [
    {
     "name": "stdout",
     "output_type": "stream",
     "text": [
      "101607\n",
      "99166\n"
     ]
    }
   ],
   "source": [
    "import pandas\n",
    "import csv \n",
    "\n",
    "def does_it_fit (l):\n",
    "    if(len(l[0]) < 4 or len(l[0]) > 9):\n",
    "        return False\n",
    "    if(l[0].find(\" \") != -1):\n",
    "        return False\n",
    "    if(l[0].find(\"-\") != -1):\n",
    "        return False\n",
    "    if(l[0][0].isupper()):\n",
    "        return False\n",
    "    if(l[4] != 'alm'):\n",
    "        return False\n",
    "    if(l[0].find('orm') != -1):\n",
    "        return False\n",
    "    return True\n",
    "\n",
    "words_we_want = []\n",
    "with open(\"/Users/valborg/Downloads/Storasnid_allt/Storasnid_ord.csv\", mode='r') as file:\n",
    "    csv_reader = csv.reader(file)\n",
    "    for row in csv_reader:\n",
    "        items = row[0].split(\";\")\n",
    "        res = does_it_fit(items)\n",
    "        if(res):\n",
    "            words_we_want.append(items[0])\n",
    "\n",
    "non_duplicates = set(words_we_want)\n",
    "f = open(\"no_duplicates_1.txt\", \"a\")\n",
    "f.write(str(non_duplicates))\n",
    "f.close()\n",
    "print(len(words_we_want))\n",
    "print(len(non_duplicates))\n"
   ]
  },
  {
   "cell_type": "code",
   "execution_count": 20,
   "metadata": {},
   "outputs": [
    {
     "name": "stdout",
     "output_type": "stream",
     "text": [
      "['68-kynslóð', '538822', 'kvk', 's', 'alm', '1', '', 'FHL-SKST', 'V', '', '', '', '', '', '', '', '', '26.1.1', '', '', '']\n",
      "alm\n"
     ]
    }
   ],
   "source": [
    "a = ['68-kynslóð;538822;kvk;s;alm;1;;FHL-SKST;V;;;;;;;;;26.1.1;;;']\n",
    "b = a[0].split(\";\")\n",
    "print(b)\n",
    "print(a[0].split(\";\")[4])\n",
    "\n"
   ]
  },
  {
   "cell_type": "code",
   "execution_count": 32,
   "metadata": {},
   "outputs": [
    {
     "data": {
      "text/plain": [
       "0"
      ]
     },
     "execution_count": 32,
     "metadata": {},
     "output_type": "execute_result"
    }
   ],
   "source": [
    "\"orm\".find('orm') "
   ]
  },
  {
   "cell_type": "code",
   "execution_count": 30,
   "metadata": {},
   "outputs": [
    {
     "data": {
      "text/plain": [
       "True"
      ]
     },
     "execution_count": 30,
     "metadata": {},
     "output_type": "execute_result"
    }
   ],
   "source": [
    "\"Abob\"[0].isupper()"
   ]
  }
 ],
 "metadata": {
  "kernelspec": {
   "display_name": "Python 3",
   "language": "python",
   "name": "python3"
  },
  "language_info": {
   "codemirror_mode": {
    "name": "ipython",
    "version": 3
   },
   "file_extension": ".py",
   "mimetype": "text/x-python",
   "name": "python",
   "nbconvert_exporter": "python",
   "pygments_lexer": "ipython3",
   "version": "3.9.6"
  }
 },
 "nbformat": 4,
 "nbformat_minor": 2
}
