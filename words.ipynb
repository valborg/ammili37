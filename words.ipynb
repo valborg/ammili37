{
 "cells": [
  {
   "cell_type": "code",
   "execution_count": 34,
   "metadata": {},
   "outputs": [
    {
     "name": "stdout",
     "output_type": "stream",
     "text": [
      "101607\n",
      "99166\n"
     ]
    }
   ],
   "source": [
    "import pandas\n",
    "import csv \n",
    "\n",
    "def does_it_fit (l):\n",
    "    if(len(l[0]) < 4 or len(l[0]) > 9):\n",
    "        return False\n",
    "    if(l[0].find(\" \") != -1):\n",
    "        return False\n",
    "    if(l[0].find(\"-\") != -1):\n",
    "        return False\n",
    "    if(l[0][0].isupper()):\n",
    "        return False\n",
    "    if(l[4] != 'alm'):\n",
    "        return False\n",
    "    if(l[0].find('orm') != -1):\n",
    "        return False\n",
    "    return True\n",
    "\n",
    "words_we_want = []\n",
    "with open(\"/Users/valborg/Downloads/Storasnid_allt/Storasnid_ord.csv\", mode='r') as file:\n",
    "    csv_reader = csv.reader(file)\n",
    "    for row in csv_reader:\n",
    "        items = row[0].split(\";\")\n",
    "        res = does_it_fit(items)\n",
    "        if(res):\n",
    "            words_we_want.append(items[0])\n",
    "\n",
    "non_duplicates = set(words_we_want)\n",
    "f = open(\"no_duplicates_1.txt\", \"a\")\n",
    "f.write(str(non_duplicates))\n",
    "f.close()\n",
    "print(len(words_we_want))\n",
    "print(len(non_duplicates))\n"
   ]
  },
  {
   "cell_type": "code",
   "execution_count": 49,
   "metadata": {},
   "outputs": [],
   "source": [
    "jumble = '''oxymoron bourgeois grays fluke rendezvous sulky shoddily jackson thematic tintype pulsating satchels onto refresh masochists unelatedly scientist typifying ratifying deceased musing historian diapers flexed slipped wigglers searched defensible obelisks gagman dizzy unyielding adroitness deceitful connects cistern detainers rainless journeymen anarchist sparred bambi stooges nieces italicized newcomer ease leaven gibbons charitable democracy eglantine encircling similarly pensioner hairiest sidearm abseiling projected locator preventive extension unbridle cornered rocketry conformist wholesale milkmaid arts emphatic yuletide listen haziness jostles nettlerash beetroots gunshot weepy strangest rootedly blubbers hoaxers adherer connive resting besmirch conveys deposited voltaire foyers zeroed gavels mention iron maximum eucalyptus disloyal trundles dispersant adaptive absolution unselfish lagoon censuses tag evangelic cubicle fortunate polynesia dogs bandit abseiling sweatbands housemaid nebulously gynecology decors valves specific overfly siamese tawdry stimulated migrate fugue brandy rued ascribes lowered roaming scrappy supremacy petticoats dative debark draped bruce pemmican glorified racy killers caissons mailbag eliciting cinquefoil flying gibes waterless bricking wittiness revisit embalming continued secludes weigh allusive pole cotswolds millipede cocktail conserves blouse unreal breakage tibia detecting unweldable instigator fizzled stench dentist respites subsumed lethargies eugenic missy miscarry table plainest fashion munich riotously cedars ruffle depravity numbness crevice ghent sicily insulated themselves chopsticks voles mousses gaped fishpond shocks envelopes midshipman staunches sweetens bernadette convenable lintel cavorted disengages devilment nipper venerates squaring pickpocket towers semitones cutlets fleshed milked nicaraguan masticated sine kingdoms besought predicate tidier rockery lark jinxes dormancy divulges alighting taxation boat climes unsnap vessel cytoplasm facial stair unpestered wizard crossbars imbibing iambic plantain uncivil commandeer toyed cue amending pepping axing endogamy wailing playbacks adoption dateline bitching annotates disclosure deduction floras brushwork shielded aptly norfolk frequently sturgeon swell descenders we'd mugged tailbacks inflates lookers lit pharaohs unlike transfixed mollified handguns overtures pea scrimmages wolfram baggage baleful listed around firstly flexes burritos brakes positive there's backwood ligaments beak lapland straightly womb feeding mockers chlorotic entranced jabot starchers snastes knackwurst sculped enzedders laggins peapods vowelling annularity aburst undervest theriac palpate hepatics unmarred oxygenates saddled verists splent mismeasure roomies centerings dey adansonia jotters gavelman skylarks assailant chemic fortifier bloodwoods juiciest gainers amuser contouring burrel rhabdoms overname pillorying leapt dace depthless dupont palters euharmonic urogenital unprincely inflated predigests spoonbills radishes deign laager looyenwork speedy gentilish plantlet polemarchs reddlemen trafficker horsewomen marled funiculate maxisingle qualify degenerate willie doctoring validates dandles saucer unsubtle headsquare tenaille shapable aventurine outlive smithson sternson rebecca demonist pochards boulles auditor silverings palletise hebraise ziganka atrophied corse ablatives decadal ezra chit roadside sportiness menaced scheduler spellings unfatigued mortified erring gratuities westerner yachts haplessly confers vernal bolster gluttonous unpotted fletcher affaire fervor masochist poplars sailing tenseness wedging sinews dextrose roofed purifying queens corrode prudish tameness paraboloid piquancy adversely tepidity egos summoned lambskins armies misprint emerald connects smokes he'd papoose dogma visas preclude essences including sprawled fairy burkina denis plenteous neatness pursues unlace sidewise headboard pap pitfall disunited challenged caught allows refractors shrilled inversion devised drug booklet rehearsing headgear irritating flares burmese annum inheriting afflicts pardons registrar jinx undertook campers clanged grabs declinable regarded neutralize beamed bowled rode bodyweight judas mac slaved may kuwait cornmeal achievable fortnights seize pretends foolscap cognation disservice instigates kiwis bygones siding supporters anywhere screwy budgetary gloved alike debussy curse waiver processes addresses outrageous toughness submarines finder abbot edmund parser squabbling carnations substance licking lope devout folds corruptly goutweed locality moonrise plasterers fabricates judgmental comes sheepish slighting cypriots narrator handiness faultiness untidiness confirm herded derived rides insists busily nightfall rethinking midwife fitful injunctive cheerless convinced dissuaders integrated firewood tweezed olives wireman interim glycerol demagogue tinned denting footed grumbles numerals clanged atrophies slowness fuels trucial tab outranking promptly beggarly beads contorts hostility unheeled dissent jamming submarine tearaway subscribed kneecap zanzibar deactivate widgets zoo spraining dimmers obstructs equalities sentiments roasting outweighed influence stuttering botulism dovecote invitation hollowing bliss domineered bashes straits opinion lifeguard ninefold keenness percipient imperfect places passion compilers plastered gabled dream unsalvable chalks pokerface variants logicism clerical demonic fettered elemental colorful spastic crouches tutor bamboo packages scorns samovar icon sheets gassed clips astrid auxiliary retail preventing brighter fleshed guided pounces dept threshed xviii medallists nasties lee villainy bighorn outstrip renews psalter enamels tufts gems caraway chick divans acrophobia toss horsepower galapagos dishonored fake peony endpoints subleased courses anybody cockcrow sumatra fiend coveted ravishes defaulting cabal immigrants triangled intensive jaywalkers cork stylites important turnoff undoes janus fisheries motioning clipboards bicycles clipboard clash gnomelike quantified employment scold infertile gushing eyelashes bullfrogs fast gouty originates unheard biblical registry untired pounces sorry profession madame waviness forded affiliated reputes place cloy subliminal inherent dialectics korea curds tugged quiff swiveled transient hyraxes upon gambled holbein trademarks murkier economics praises fairies chorea shaky tektronix quae prudery endowment ameba overeaten overbought battenberg apropos defaults paginated hairs minter curbable boatload legible troy unyoked sidestep dandy histrionic norms stomaching grebes bodyweight groaner homology madrid mastiffs braggingly critical playhouse boxing overawe entrapping trackers hampering sixties shown densely forayed handful spinster catkin enrich riverboat residues prominence hypes consumes deodorizes classier lacks spiritual primacy ducklings brevet portent develops keypresses liveliness occlusive papiemento pixels crisps hawaii decamping unpulped apolitical deathtrap stint tucked hostelry outwore agreement madder hosed elitist doctorate epithets uneasiness painkiller bombers aspired hellish plumped wimples fez dignities blur sleeves paralyzed opposed canonist arabs springing suspended racketeers socialize prognoses esoteric striking washout subjugator hatchment freeway reelects mercatoria drowses wills thirteenth tyrolese assets liberates tubers eviscerate gibes militantly pertain coniferous necrosis factory lividly temporally aristocrat underhand humble philosophy flee reactant massacring damsels spa growl googol pluto outsize snatch fruitfully coarse stoppers expired adolescent botch cleanup fugal ignobly subsiding idols squash timbre seams ingested nicety clubhouse tasked newsweek milkwort bigamous rabbles umlaut gonorrhea reef inadequate leerier pervade deplores suite phosphide bovines recursive ultimate badminton rep aerating snap shape miss clings messenger weal remount shit dancers oilskin defused minders landscape compulsive loutish cardinals chinaware soiree abysmal counselor hassocks recoveries insisting unnettled malawi entities animosity ascend unhappier wolf vesture richter california grilled kosher cloud warranted damper animate manicures corpulent baby soupy inducted xvii warts propensity shudder rack whisked supplants rebuild delivered likes hyacinth abandons supposes honorarium impregnate valerie debatably recouped artisan executive lifeless throttles mallard bumped trills legitimate demote poisoner parodied veteran cyclopean dad backtrack inhalants thud chorine erected ceiling lefty finely rattrap carbonate putters locally lampshades defensive sander overly cereal addict canalizing immense edgar statistic mandatory limo sallowest nodding sparring itself circumcise soundproof bauble evensong flouncing umlaut tail stilts spittoon dwindle scaring harshest socialize outbursts loathe malady archers furbishing proclaims taping drawled drummed merest concurring monday differed cello internal patience without jockey dampens combine communion sageness fidelity month tickler sweet drunkenly fathoming doublet beliefs rivals carousers tweezed biers welts fund sprayer otherwise chary patagonia bacterium cohort bouncers zionist paved resolvable visas zanier sunk peaky recipe stupidity surrounds pianissimo amassed gail manx drachmae pantheism direfully despicably frizz tries confecting rivet legibility sower unuttered deluged augurs seafarers bay vanity characters metro abducts attesting baton empiric chummed shippers accurate centurion limbering israelites allure groundless allowable arcsin slept allophone principled dyspeptic licenses german trainees cords assimilate studiously ambient unwarped telexes sheffield adjusts caddies befriends merciful landladies interlaced plazas inter concordant gunboats redesigns perplex penknives disclosure meteoritic oscar unfordable clothing caterwaul whips zooms smilingly intruders narrower oily pedestal mastic generative drifts valiant overhauled unfriendly hatters cleat scruple stateless pegged pinch proofed stupidity lactate breathes furnish jolt winter keepers automated sudden unbranched cleaved unassumed octahedra unshown orates refinish quakes mint subtotal cocoa claws dehydrator fitted crackers unweaned maritagii squawks mentality proverbs enmeshing receding exhumes toxic emigrated workhorse relegates kicking overslept nonviolent calibrator summers bond outhouses bedevils cornbread candid exerted outrush justinian adrian xxv lunchrooms monopoly yeas disfigured coursing chewing effectual unweldable floury treadle sands neoclassic furbish animate wrap vulgar terming tramps flukes rerouted twangingly shocker catnapped doused bitterly unsawed syllabub executable wolfishly horrify nineveh detestable alleviated reduce assassins marshy lefthander debunker bloodstock pendants womanizes bouquet seraphim froth thumbed reservedly straggled livens mezzo geysers clones walker jetties disturbed providing restless unangelic befogged clouds visitors rerunning itching carryovers uninhaled mobbing barrows unconfused harassment beget satchel cartoon trots libidinous rectifying commands definitely musket jibs tiffany loaders freaking reindeer pages undismayed reprimands titillator canalized glorifies libreville stepsons curbside cumin citations bunk pirouette unspirited choppy browse chief nuptial momentum excreta commune deterred godmother lemmings duplicity executive vexes firewood showiness rescuing signally auctioned huddles tapers daphne modishness silver slyer obtusely commoners stank dossier freighters thermister governors truly likelihood capacitate stinging venous residually jolts enjoyment messiest invertible boasters eyeball stymie noughts ruckus enthrones flames procedures par knurled brides crease dyer moral handcart monastery headlight comoros whimper handcuff julienne remembered butlers yachtsmen bowfin trussers troth elapsing gerundial twists nauseating coke mammon regimented simplest curiosity corrupted squeaking dropsy fezzes uncreative rucked threshers magazines alder vapid coarsest blinkered underseals burmese uniquely spraining piecemeal animatedly downpour hygrometer foaling marshy mistrusts falloff hotbox escalated draft conversing hussars seaports grate dutifully colonizes liquidated pacemakers continue overacted innings purloins situates disputants slaughter refinance blackness youthfully ruffian softish harpies congress liquidizer suspense acquits parasite attitudes edges sings flown poignantly reloaded teapotfuls named disavowing notebook stones coracle speedway riverside shortest cargos leaked fatalism billows jim legume tussock culinary dispatch inviolate surviving andrews aunts sevenths caked primes negligence smokeless cervix jackets benzene volley reaps sulky sherbet variety adoption economy solomon shameless filler dangerous mare outrider glassy rhapsody blustery purgatory polonaise playful tidemark quays poised hardening festively corners grumps twofold caravans lay bunker maritagii liquefying unanswered discounts axles bedraggle mucus chrysler archive gunnery preciously crepes flavoring dollar count subside utilities drum dissension chancering ingenious scaring ludlum outsides relates rim newsstand real enrapture trapezoid moralistic exerts feedback posing unpinched swear subjoin glutamic sandpit wintered immersing driller chop betty grandiose unjailed unmirthful admirers charitably udders throatily lorry nosegay forced attenuate seceded faltered saxophones proffer housemaids clinician red sidetracks queued draught textbook unimitated inexorable depress cougher brimful tabbed befuddling honked covets reusing aridity warders unmanaged wastefully twaddle afflicted pliocene penthouse wednesdays hollering samaritan grouting unchased fish delved oilcakes hectare shapably apoplexy inequable fitness geezers dyslectic cafe audacious scowling energizes intruded offices ferried poising excising panty uniterated songster bullfight subsisted malevolent skimps writhed commonest tamale kiloton moistening skull canal crave unabundant cabin feuds melamine redness unopened flan consul veiled rasps impacts moroseness pummel retrospect shipyard bloc perturbate deb untimed beefburger flicking emulators masters omnibuses admonitory jaipur rousseau deflator slugging rationed assessors applaud billeted lauren bloated bacterial bailiwicks betokened increments grosser mouthpiece dab aeration tobago interfere mulish whippings beet hackney arming marsupials oracle bogeys prediction aisles tidier declaiming pity builders dauntless usurper pursuers nervously fragrantly arrowheads curving edwardian filtrates inference lifestyle madeira denim lengthens tyler soybean fowl rising diary undenoted retentive retire breakers hung zips deserved culminates bared torpors bug seriatim enviously nagged amassing lampshade advisers zip subtleties untoward unpeeled wordlessly irrigate greeks aeronautic motive huffy coronation necessity caftan retorted deadborn berets demolishes ineloquent rang stinky labelers sorted whew munition elisha pondering viva cloakroom brooch sacredness feebleness nodding organize basements coverlet flagstone unendured restating checking knightly swathe somebody comment frosting chromium steerage approved foals winging vaginas northern plant-based showstopper couch-potato bluey'''.split()\n",
    "\n",
    "f = open(\"jumble.txt\", \"a\")\n",
    "f.write(str(jumble))\n",
    "f.close()\n",
    "\n"
   ]
  },
  {
   "cell_type": "code",
   "execution_count": 41,
   "metadata": {},
   "outputs": [
    {
     "name": "stdout",
     "output_type": "stream",
     "text": [
      "['surrealism', 'bishop', 'tangles', 'pituitary', 'deflectors', 'cabinets', 'norse', 'dons', 'heavens', 'integrity', 'homicide', 'variations', 'swapping', 'emblems', 'combusted', 'outrider', 'ribbon', 'unpadded', 'classiest', 'interact', 'castrators', 'jamming', 'baleful', 'costumed', 'outrage', 'stimuli', 'inelegant', 'cents', 'activities', 'jotted', 'raiding', 'assyria', 'upstaged', 'sustain', 'smoky', 'unquiet', 'fully', 'tofu', 'wittier', 'realtime', 'babylonian', 'beats', 'coagulated', 'disbar', 'mayor', 'negates', 'spindles', 'scanning', 'loopy', 'sallie', 'loftier', 'shrug', 'astuteness', 'biceps', 'poisoners', 'adjusting', 'rehearsing', 'headache', 'graduation', 'tiptoeing', 'wormwood', 'omission', 'frictions', 'domestic', 'giltedged', 'houston', 'defalcates', 'paddy', 'bernie', 'incisive', 'reprise', 'miocene', 'tabernacle', 'bulge', 'voiding', 'cabbage', 'unweighed', 'wrongdoing', 'exposing', 'pucker', 'smokeless', 'creole', 'expulsion', 'mexican', 'impoverish', 'vendor', 'foggy', 'presaged', 'dodos', 'enchant', 'numbly', 'staircases', 'requiem', 'merger', 'outsider', 'ungutted', 'circulate', 'boomerang', 'reddening', 'defalcate']\n"
     ]
    }
   ],
   "source": [
    "eng_collection = list(jumble)\n",
    "print(eng_collection)"
   ]
  },
  {
   "cell_type": "code",
   "execution_count": 45,
   "metadata": {},
   "outputs": [],
   "source": [
    "eng_collection.append(jumble)"
   ]
  },
  {
   "cell_type": "code",
   "execution_count": 47,
   "metadata": {},
   "outputs": [
    {
     "name": "stdout",
     "output_type": "stream",
     "text": [
      "['unnoted', 'monogram', 'eldest', 'tidied', 'capsize', 'vigil', 'artwork', 'spooling', 'gaslights', 'sapience', 'bisector', 'maiden', 'molly', 'variegator', 'absolutes', 'byte', 'collator', 'counting', 'worryingly', 'nirvana', 'emended', 'adjoin', 'routines', 'singes', 'fiji', 'shunning', 'paris', 'tabulates', 'deviated', 'macao', 'arrears', 'rotors', 'trilling', 'stringy', 'backspin', 'canyons', 'arsenal', 'sift', 'slipping', 'exist', 'ufo', 'enamors', 'outwitting', 'baste', 'millimeter', 'legalizes', 'enthusiast', 'indicative', 'hippie', 'fracture', 'marginalia', 'murmured', 'daft', 'caretaker', 'imagine', 'dwelled', 'thesaurus', 'saddened', 'roar', 'murkiest', 'wisecrack', 'horse', 'intense', 'spouts', 'tenere', 'disparaged', 'circa', 'plentiful', 'calendars', 'bereaved', 'discretely', 'bogeyman', 'harangue', 'titanic', 'revivified', 'florins', 'satiny', 'disperses', 'granulate', 'recedes', 'poplar', 'concussed', 'glitter', 'campfire', 'rheumatic', 'nerve', 'pedigrees', 'rehash', 'discredits', 'subjecting', 'stumbler', 'bush', 'scrupulous', 'misnamed', 'reprint', 'shop', 'dribble', 'keystrokes', 'vauxhall', 'squirting']\n"
     ]
    }
   ],
   "source": [
    "len(eng_collection)\n",
    "print(eng_collection[101])"
   ]
  },
  {
   "cell_type": "code",
   "execution_count": null,
   "metadata": {},
   "outputs": [],
   "source": []
  },
  {
   "cell_type": "code",
   "execution_count": 20,
   "metadata": {},
   "outputs": [
    {
     "name": "stdout",
     "output_type": "stream",
     "text": [
      "['68-kynslóð', '538822', 'kvk', 's', 'alm', '1', '', 'FHL-SKST', 'V', '', '', '', '', '', '', '', '', '26.1.1', '', '', '']\n",
      "alm\n"
     ]
    }
   ],
   "source": [
    "a = ['68-kynslóð;538822;kvk;s;alm;1;;FHL-SKST;V;;;;;;;;;26.1.1;;;']\n",
    "b = a[0].split(\";\")\n",
    "print(b)\n",
    "print(a[0].split(\";\")[4])\n",
    "\n"
   ]
  },
  {
   "cell_type": "code",
   "execution_count": 32,
   "metadata": {},
   "outputs": [
    {
     "data": {
      "text/plain": [
       "0"
      ]
     },
     "execution_count": 32,
     "metadata": {},
     "output_type": "execute_result"
    }
   ],
   "source": [
    "\"orm\".find('orm') "
   ]
  },
  {
   "cell_type": "code",
   "execution_count": 30,
   "metadata": {},
   "outputs": [
    {
     "data": {
      "text/plain": [
       "True"
      ]
     },
     "execution_count": 30,
     "metadata": {},
     "output_type": "execute_result"
    }
   ],
   "source": [
    "\"Abob\"[0].isupper()"
   ]
  }
 ],
 "metadata": {
  "kernelspec": {
   "display_name": "Python 3",
   "language": "python",
   "name": "python3"
  },
  "language_info": {
   "codemirror_mode": {
    "name": "ipython",
    "version": 3
   },
   "file_extension": ".py",
   "mimetype": "text/x-python",
   "name": "python",
   "nbconvert_exporter": "python",
   "pygments_lexer": "ipython3",
   "version": "3.9.6"
  }
 },
 "nbformat": 4,
 "nbformat_minor": 2
}
